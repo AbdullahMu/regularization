{
 "cells": [
  {
   "cell_type": "markdown",
   "metadata": {},
   "source": [
    "<img src=\"http://imgur.com/1ZcRyrc.png\" style=\"float: left; margin: 20px; height: 55px\">\n",
    "\n",
    "# Predicting shots made per game by Kobe Bryant\n",
    "\n",
    "_Instructor: Aymeric Flaisler_\n",
    "\n",
    "---\n",
    "\n",
    "In this lab you'll be using regularized regression penalties Ridge, Lasso, and Elastic Net to try and predict how many shots Kobe Bryant made per game in his career.\n",
    "\n",
    "The Kobe shots dataset has hundreds of columns representing different characteristics of each basketball game. Fitting an ordinary linear regression using every predictor would dramatically overfit the model considering the limited number of observations (games) we have available. Furthermore, many of the predictors have significant multicollinearity. \n",
    "\n",
    "**Warning:** Some of these calculations are computationally expensive and may take a while to execute.  It may be worth while to only use a portion of the data to perform these calculations, especially if you have experienced kernel issues in the past.\n",
    "\n",
    "---\n",
    "\n",
    "### 1. Load packages and data"
   ]
  },
  {
   "cell_type": "code",
   "execution_count": 36,
   "metadata": {},
   "outputs": [],
   "source": [
    "import numpy as np\n",
    "import pandas as pd\n",
    "import patsy\n",
    "\n",
    "from sklearn.linear_model import Ridge, Lasso, ElasticNet, LinearRegression, RidgeCV, LassoCV, ElasticNetCV\n",
    "from sklearn.model_selection import cross_val_score, cross_val_predict\n",
    "from sklearn.metrics import r2_score\n",
    "\n",
    "import matplotlib\n",
    "import matplotlib.pyplot as plt\n",
    "import seaborn as sns\n",
    "plt.style.use('fivethirtyeight')\n",
    "\n",
    "%config InlineBackend.figure_format = 'retina'\n",
    "%matplotlib inline"
   ]
  },
  {
   "cell_type": "code",
   "execution_count": 37,
   "metadata": {},
   "outputs": [],
   "source": [
    "kobe = pd.read_csv('./datasets/kobe_superwide_games.csv')"
   ]
  },
  {
   "cell_type": "markdown",
   "metadata": {},
   "source": [
    "---\n",
    "\n",
    "### 2. Examine the data\n",
    "\n",
    "- How many columns are there?\n",
    "- Examine what the observations (rows) and columns represent.\n",
    "- Why might regularization be particularly useful for this dataset?"
   ]
  },
  {
   "cell_type": "code",
   "execution_count": 38,
   "metadata": {},
   "outputs": [
    {
     "data": {
      "text/plain": [
       "(1558, 645)"
      ]
     },
     "execution_count": 38,
     "metadata": {},
     "output_type": "execute_result"
    }
   ],
   "source": [
    "# A:\n",
    "kobe.shape\n",
    "#645 columns that represent kobe stats in his career\n",
    "\n"
   ]
  },
  {
   "cell_type": "code",
   "execution_count": 39,
   "metadata": {},
   "outputs": [],
   "source": [
    "# kobe.columns"
   ]
  },
  {
   "cell_type": "code",
   "execution_count": 40,
   "metadata": {},
   "outputs": [],
   "source": [
    "# with pd.option_context('display.max_rows', 999,'display.max_columns', 999):\n",
    "#     display(kobe)"
   ]
  },
  {
   "cell_type": "code",
   "execution_count": 41,
   "metadata": {},
   "outputs": [
    {
     "data": {
      "text/html": [
       "<div>\n",
       "<style scoped>\n",
       "    .dataframe tbody tr th:only-of-type {\n",
       "        vertical-align: middle;\n",
       "    }\n",
       "\n",
       "    .dataframe tbody tr th {\n",
       "        vertical-align: top;\n",
       "    }\n",
       "\n",
       "    .dataframe thead th {\n",
       "        text-align: right;\n",
       "    }\n",
       "</style>\n",
       "<table border=\"1\" class=\"dataframe\">\n",
       "  <thead>\n",
       "    <tr style=\"text-align: right;\">\n",
       "      <th></th>\n",
       "      <th>SHOTS_MADE</th>\n",
       "      <th>AWAY_GAME</th>\n",
       "      <th>SEASON_OPPONENT:atl:1996-97</th>\n",
       "      <th>SEASON_OPPONENT:atl:1997-98</th>\n",
       "      <th>SEASON_OPPONENT:atl:1999-00</th>\n",
       "      <th>SEASON_OPPONENT:atl:2000-01</th>\n",
       "      <th>SEASON_OPPONENT:atl:2001-02</th>\n",
       "      <th>SEASON_OPPONENT:atl:2002-03</th>\n",
       "      <th>SEASON_OPPONENT:atl:2003-04</th>\n",
       "      <th>SEASON_OPPONENT:atl:2004-05</th>\n",
       "      <th>...</th>\n",
       "      <th>ACTION_TYPE:tip_layup_shot</th>\n",
       "      <th>ACTION_TYPE:tip_shot</th>\n",
       "      <th>ACTION_TYPE:turnaround_bank_shot</th>\n",
       "      <th>ACTION_TYPE:turnaround_fadeaway_bank_jump_shot</th>\n",
       "      <th>ACTION_TYPE:turnaround_fadeaway_shot</th>\n",
       "      <th>ACTION_TYPE:turnaround_finger_roll_shot</th>\n",
       "      <th>ACTION_TYPE:turnaround_hook_shot</th>\n",
       "      <th>ACTION_TYPE:turnaround_jump_shot</th>\n",
       "      <th>SEASON_GAME_NUMBER</th>\n",
       "      <th>CAREER_GAME_NUMBER</th>\n",
       "    </tr>\n",
       "  </thead>\n",
       "  <tbody>\n",
       "    <tr>\n",
       "      <th>SHOTS_MADE</th>\n",
       "      <td>1.000000</td>\n",
       "      <td>0.009671</td>\n",
       "      <td>-0.076029</td>\n",
       "      <td>-0.024370</td>\n",
       "      <td>0.004683</td>\n",
       "      <td>0.004683</td>\n",
       "      <td>0.011791</td>\n",
       "      <td>0.006625</td>\n",
       "      <td>0.011986</td>\n",
       "      <td>-0.017227</td>\n",
       "      <td>...</td>\n",
       "      <td>-0.014039</td>\n",
       "      <td>-0.036108</td>\n",
       "      <td>0.062609</td>\n",
       "      <td>-0.017227</td>\n",
       "      <td>0.006544</td>\n",
       "      <td>0.000266</td>\n",
       "      <td>-0.016149</td>\n",
       "      <td>0.146655</td>\n",
       "      <td>0.059012</td>\n",
       "      <td>0.194842</td>\n",
       "    </tr>\n",
       "    <tr>\n",
       "      <th>AWAY_GAME</th>\n",
       "      <td>0.009671</td>\n",
       "      <td>1.000000</td>\n",
       "      <td>-0.000046</td>\n",
       "      <td>-0.000046</td>\n",
       "      <td>0.025310</td>\n",
       "      <td>0.025310</td>\n",
       "      <td>-0.000046</td>\n",
       "      <td>-0.000046</td>\n",
       "      <td>-0.025375</td>\n",
       "      <td>-0.025375</td>\n",
       "      <td>...</td>\n",
       "      <td>-0.000046</td>\n",
       "      <td>-0.021380</td>\n",
       "      <td>0.011718</td>\n",
       "      <td>0.025310</td>\n",
       "      <td>0.014764</td>\n",
       "      <td>0.002704</td>\n",
       "      <td>0.024190</td>\n",
       "      <td>0.053858</td>\n",
       "      <td>0.022408</td>\n",
       "      <td>0.007128</td>\n",
       "    </tr>\n",
       "    <tr>\n",
       "      <th>SEASON_OPPONENT:atl:1996-97</th>\n",
       "      <td>-0.076029</td>\n",
       "      <td>-0.000046</td>\n",
       "      <td>1.000000</td>\n",
       "      <td>-0.001285</td>\n",
       "      <td>-0.000909</td>\n",
       "      <td>-0.000909</td>\n",
       "      <td>-0.001285</td>\n",
       "      <td>-0.001285</td>\n",
       "      <td>-0.000909</td>\n",
       "      <td>-0.000909</td>\n",
       "      <td>...</td>\n",
       "      <td>-0.001285</td>\n",
       "      <td>-0.010103</td>\n",
       "      <td>-0.006594</td>\n",
       "      <td>-0.000909</td>\n",
       "      <td>-0.012282</td>\n",
       "      <td>-0.001282</td>\n",
       "      <td>-0.003170</td>\n",
       "      <td>-0.023060</td>\n",
       "      <td>-0.024709</td>\n",
       "      <td>-0.060220</td>\n",
       "    </tr>\n",
       "    <tr>\n",
       "      <th>SEASON_OPPONENT:atl:1997-98</th>\n",
       "      <td>-0.024370</td>\n",
       "      <td>-0.000046</td>\n",
       "      <td>-0.001285</td>\n",
       "      <td>1.000000</td>\n",
       "      <td>-0.000909</td>\n",
       "      <td>-0.000909</td>\n",
       "      <td>-0.001285</td>\n",
       "      <td>-0.001285</td>\n",
       "      <td>-0.000909</td>\n",
       "      <td>-0.000909</td>\n",
       "      <td>...</td>\n",
       "      <td>-0.001285</td>\n",
       "      <td>-0.010103</td>\n",
       "      <td>-0.006594</td>\n",
       "      <td>-0.000909</td>\n",
       "      <td>-0.012282</td>\n",
       "      <td>-0.001282</td>\n",
       "      <td>-0.003170</td>\n",
       "      <td>-0.023060</td>\n",
       "      <td>-0.024709</td>\n",
       "      <td>-0.054241</td>\n",
       "    </tr>\n",
       "    <tr>\n",
       "      <th>SEASON_OPPONENT:atl:1999-00</th>\n",
       "      <td>0.004683</td>\n",
       "      <td>0.025310</td>\n",
       "      <td>-0.000909</td>\n",
       "      <td>-0.000909</td>\n",
       "      <td>1.000000</td>\n",
       "      <td>-0.000642</td>\n",
       "      <td>-0.000909</td>\n",
       "      <td>-0.000909</td>\n",
       "      <td>-0.000642</td>\n",
       "      <td>-0.000642</td>\n",
       "      <td>...</td>\n",
       "      <td>-0.000909</td>\n",
       "      <td>-0.007142</td>\n",
       "      <td>-0.004661</td>\n",
       "      <td>-0.000642</td>\n",
       "      <td>-0.008682</td>\n",
       "      <td>-0.000906</td>\n",
       "      <td>-0.002241</td>\n",
       "      <td>-0.016301</td>\n",
       "      <td>-0.033038</td>\n",
       "      <td>-0.030961</td>\n",
       "    </tr>\n",
       "  </tbody>\n",
       "</table>\n",
       "<p>5 rows × 645 columns</p>\n",
       "</div>"
      ],
      "text/plain": [
       "                             SHOTS_MADE  AWAY_GAME  \\\n",
       "SHOTS_MADE                     1.000000   0.009671   \n",
       "AWAY_GAME                      0.009671   1.000000   \n",
       "SEASON_OPPONENT:atl:1996-97   -0.076029  -0.000046   \n",
       "SEASON_OPPONENT:atl:1997-98   -0.024370  -0.000046   \n",
       "SEASON_OPPONENT:atl:1999-00    0.004683   0.025310   \n",
       "\n",
       "                             SEASON_OPPONENT:atl:1996-97  \\\n",
       "SHOTS_MADE                                     -0.076029   \n",
       "AWAY_GAME                                      -0.000046   \n",
       "SEASON_OPPONENT:atl:1996-97                     1.000000   \n",
       "SEASON_OPPONENT:atl:1997-98                    -0.001285   \n",
       "SEASON_OPPONENT:atl:1999-00                    -0.000909   \n",
       "\n",
       "                             SEASON_OPPONENT:atl:1997-98  \\\n",
       "SHOTS_MADE                                     -0.024370   \n",
       "AWAY_GAME                                      -0.000046   \n",
       "SEASON_OPPONENT:atl:1996-97                    -0.001285   \n",
       "SEASON_OPPONENT:atl:1997-98                     1.000000   \n",
       "SEASON_OPPONENT:atl:1999-00                    -0.000909   \n",
       "\n",
       "                             SEASON_OPPONENT:atl:1999-00  \\\n",
       "SHOTS_MADE                                      0.004683   \n",
       "AWAY_GAME                                       0.025310   \n",
       "SEASON_OPPONENT:atl:1996-97                    -0.000909   \n",
       "SEASON_OPPONENT:atl:1997-98                    -0.000909   \n",
       "SEASON_OPPONENT:atl:1999-00                     1.000000   \n",
       "\n",
       "                             SEASON_OPPONENT:atl:2000-01  \\\n",
       "SHOTS_MADE                                      0.004683   \n",
       "AWAY_GAME                                       0.025310   \n",
       "SEASON_OPPONENT:atl:1996-97                    -0.000909   \n",
       "SEASON_OPPONENT:atl:1997-98                    -0.000909   \n",
       "SEASON_OPPONENT:atl:1999-00                    -0.000642   \n",
       "\n",
       "                             SEASON_OPPONENT:atl:2001-02  \\\n",
       "SHOTS_MADE                                      0.011791   \n",
       "AWAY_GAME                                      -0.000046   \n",
       "SEASON_OPPONENT:atl:1996-97                    -0.001285   \n",
       "SEASON_OPPONENT:atl:1997-98                    -0.001285   \n",
       "SEASON_OPPONENT:atl:1999-00                    -0.000909   \n",
       "\n",
       "                             SEASON_OPPONENT:atl:2002-03  \\\n",
       "SHOTS_MADE                                      0.006625   \n",
       "AWAY_GAME                                      -0.000046   \n",
       "SEASON_OPPONENT:atl:1996-97                    -0.001285   \n",
       "SEASON_OPPONENT:atl:1997-98                    -0.001285   \n",
       "SEASON_OPPONENT:atl:1999-00                    -0.000909   \n",
       "\n",
       "                             SEASON_OPPONENT:atl:2003-04  \\\n",
       "SHOTS_MADE                                      0.011986   \n",
       "AWAY_GAME                                      -0.025375   \n",
       "SEASON_OPPONENT:atl:1996-97                    -0.000909   \n",
       "SEASON_OPPONENT:atl:1997-98                    -0.000909   \n",
       "SEASON_OPPONENT:atl:1999-00                    -0.000642   \n",
       "\n",
       "                             SEASON_OPPONENT:atl:2004-05  ...  \\\n",
       "SHOTS_MADE                                     -0.017227  ...   \n",
       "AWAY_GAME                                      -0.025375  ...   \n",
       "SEASON_OPPONENT:atl:1996-97                    -0.000909  ...   \n",
       "SEASON_OPPONENT:atl:1997-98                    -0.000909  ...   \n",
       "SEASON_OPPONENT:atl:1999-00                    -0.000642  ...   \n",
       "\n",
       "                             ACTION_TYPE:tip_layup_shot  ACTION_TYPE:tip_shot  \\\n",
       "SHOTS_MADE                                    -0.014039             -0.036108   \n",
       "AWAY_GAME                                     -0.000046             -0.021380   \n",
       "SEASON_OPPONENT:atl:1996-97                   -0.001285             -0.010103   \n",
       "SEASON_OPPONENT:atl:1997-98                   -0.001285             -0.010103   \n",
       "SEASON_OPPONENT:atl:1999-00                   -0.000909             -0.007142   \n",
       "\n",
       "                             ACTION_TYPE:turnaround_bank_shot  \\\n",
       "SHOTS_MADE                                           0.062609   \n",
       "AWAY_GAME                                            0.011718   \n",
       "SEASON_OPPONENT:atl:1996-97                         -0.006594   \n",
       "SEASON_OPPONENT:atl:1997-98                         -0.006594   \n",
       "SEASON_OPPONENT:atl:1999-00                         -0.004661   \n",
       "\n",
       "                             ACTION_TYPE:turnaround_fadeaway_bank_jump_shot  \\\n",
       "SHOTS_MADE                                                        -0.017227   \n",
       "AWAY_GAME                                                          0.025310   \n",
       "SEASON_OPPONENT:atl:1996-97                                       -0.000909   \n",
       "SEASON_OPPONENT:atl:1997-98                                       -0.000909   \n",
       "SEASON_OPPONENT:atl:1999-00                                       -0.000642   \n",
       "\n",
       "                             ACTION_TYPE:turnaround_fadeaway_shot  \\\n",
       "SHOTS_MADE                                               0.006544   \n",
       "AWAY_GAME                                                0.014764   \n",
       "SEASON_OPPONENT:atl:1996-97                             -0.012282   \n",
       "SEASON_OPPONENT:atl:1997-98                             -0.012282   \n",
       "SEASON_OPPONENT:atl:1999-00                             -0.008682   \n",
       "\n",
       "                             ACTION_TYPE:turnaround_finger_roll_shot  \\\n",
       "SHOTS_MADE                                                  0.000266   \n",
       "AWAY_GAME                                                   0.002704   \n",
       "SEASON_OPPONENT:atl:1996-97                                -0.001282   \n",
       "SEASON_OPPONENT:atl:1997-98                                -0.001282   \n",
       "SEASON_OPPONENT:atl:1999-00                                -0.000906   \n",
       "\n",
       "                             ACTION_TYPE:turnaround_hook_shot  \\\n",
       "SHOTS_MADE                                          -0.016149   \n",
       "AWAY_GAME                                            0.024190   \n",
       "SEASON_OPPONENT:atl:1996-97                         -0.003170   \n",
       "SEASON_OPPONENT:atl:1997-98                         -0.003170   \n",
       "SEASON_OPPONENT:atl:1999-00                         -0.002241   \n",
       "\n",
       "                             ACTION_TYPE:turnaround_jump_shot  \\\n",
       "SHOTS_MADE                                           0.146655   \n",
       "AWAY_GAME                                            0.053858   \n",
       "SEASON_OPPONENT:atl:1996-97                         -0.023060   \n",
       "SEASON_OPPONENT:atl:1997-98                         -0.023060   \n",
       "SEASON_OPPONENT:atl:1999-00                         -0.016301   \n",
       "\n",
       "                             SEASON_GAME_NUMBER  CAREER_GAME_NUMBER  \n",
       "SHOTS_MADE                             0.059012            0.194842  \n",
       "AWAY_GAME                              0.022408            0.007128  \n",
       "SEASON_OPPONENT:atl:1996-97           -0.024709           -0.060220  \n",
       "SEASON_OPPONENT:atl:1997-98           -0.024709           -0.054241  \n",
       "SEASON_OPPONENT:atl:1999-00           -0.033038           -0.030961  \n",
       "\n",
       "[5 rows x 645 columns]"
      ]
     },
     "execution_count": 41,
     "metadata": {},
     "output_type": "execute_result"
    }
   ],
   "source": [
    "kobe.corr().head()"
   ]
  },
  {
   "cell_type": "markdown",
   "metadata": {},
   "source": [
    "---\n",
    "\n",
    "### 3. Make predictor and target variables. Standardize the predictors.\n",
    "\n",
    "Why is normalization necessary for regularized regressions?\n",
    "\n",
    "Use the `sklearn.preprocessing` class `StandardScaler` to standardize the predictors."
   ]
  },
  {
   "cell_type": "code",
   "execution_count": 42,
   "metadata": {},
   "outputs": [],
   "source": [
    "# A:\n",
    "from sklearn.preprocessing import StandardScaler\n",
    "st= StandardScaler()\n",
    "x = kobe.drop('SHOTS_MADE',axis = 1)\n",
    "y= kobe['SHOTS_MADE']\n"
   ]
  },
  {
   "cell_type": "markdown",
   "metadata": {},
   "source": [
    "---\n",
    "\n",
    "### 4. Build a linear regression predicting `SHOTS_MADE` from the rest of the columns.\n",
    "\n",
    "Cross-validate the $R^2$ of an ordinary linear regression model with 10 cross-validation folds.\n",
    "\n",
    "How does it perform?"
   ]
  },
  {
   "cell_type": "code",
   "execution_count": 43,
   "metadata": {},
   "outputs": [
    {
     "name": "stderr",
     "output_type": "stream",
     "text": [
      "C:\\Users\\mgood\\Anaconda3\\lib\\site-packages\\sklearn\\preprocessing\\data.py:645: DataConversionWarning: Data with input dtype int64, float64 were all converted to float64 by StandardScaler.\n",
      "  return self.partial_fit(X, y)\n",
      "C:\\Users\\mgood\\Anaconda3\\lib\\site-packages\\sklearn\\base.py:464: DataConversionWarning: Data with input dtype int64, float64 were all converted to float64 by StandardScaler.\n",
      "  return self.fit(X, **fit_params).transform(X)\n"
     ]
    },
    {
     "data": {
      "text/plain": [
       "0.8078936863518436"
      ]
     },
     "execution_count": 43,
     "metadata": {},
     "output_type": "execute_result"
    }
   ],
   "source": [
    "# A:\n",
    "x_std= st.fit_transform(x)\n",
    "lr = LinearRegression()\n",
    "lr.fit(x,y)\n",
    "lr.score(x,y)\n"
   ]
  },
  {
   "cell_type": "markdown",
   "metadata": {},
   "source": [
    "---\n",
    "\n",
    "### 5. Find an optimal value for Ridge regression alpha using `RidgeCV`.\n",
    "\n",
    "[Go to the documentation and read how RidgeCV works.](http://scikit-learn.org/stable/modules/generated/sklearn.linear_model.RidgeCV.html)\n",
    "\n",
    "> *Hint: once the RidgeCV is fit, the attribute `.alpha_` contains the best alpha parameter it found through cross-validation.*\n",
    "\n",
    "Recall that Ridge performs best searching alphas through logarithmic space (`np.logspace`). This may take awhile to fit!\n"
   ]
  },
  {
   "cell_type": "code",
   "execution_count": 44,
   "metadata": {},
   "outputs": [
    {
     "name": "stderr",
     "output_type": "stream",
     "text": [
      "C:\\Users\\mgood\\Anaconda3\\lib\\site-packages\\sklearn\\model_selection\\_search.py:841: DeprecationWarning: The default of the `iid` parameter will change from True to False in version 0.22 and will be removed in 0.24. This will change numeric results when test-set sizes are unequal.\n",
      "  DeprecationWarning)\n"
     ]
    },
    {
     "data": {
      "text/plain": [
       "RidgeCV(alphas=array([ 1.     ,  1.12884,  1.27427,  1.43845,  1.62378,  1.83298,\n",
       "        2.06914,  2.33572,  2.63665,  2.97635,  3.35982,  3.79269,\n",
       "        4.28133,  4.83293,  5.45559,  6.15848,  6.95193,  7.8476 ,\n",
       "        8.85867, 10.     ]),\n",
       "    cv=5, fit_intercept=True, gcv_mode=None, normalize=False, scoring=None,\n",
       "    store_cv_values=False)"
      ]
     },
     "execution_count": 44,
     "metadata": {},
     "output_type": "execute_result"
    }
   ],
   "source": [
    "# A:\n",
    "rid = RidgeCV(alphas=np.logspace(0, 1, 20.0),cv=5)\n",
    "rid.fit(x_std,y)"
   ]
  },
  {
   "cell_type": "code",
   "execution_count": 29,
   "metadata": {},
   "outputs": [],
   "source": [
    "# rid.coef_"
   ]
  },
  {
   "cell_type": "code",
   "execution_count": 30,
   "metadata": {},
   "outputs": [],
   "source": [
    "# np.logspace"
   ]
  },
  {
   "cell_type": "code",
   "execution_count": 45,
   "metadata": {},
   "outputs": [
    {
     "data": {
      "text/plain": [
       "10.0"
      ]
     },
     "execution_count": 45,
     "metadata": {},
     "output_type": "execute_result"
    }
   ],
   "source": [
    "rid.alpha_"
   ]
  },
  {
   "cell_type": "markdown",
   "metadata": {},
   "source": [
    "---\n",
    "\n",
    "### 6. Cross-validate the Ridge regression $R^2$ with the optimal alpha.\n",
    "\n",
    "Is it better than the Linear regression? If so, why might this be?"
   ]
  },
  {
   "cell_type": "code",
   "execution_count": 46,
   "metadata": {},
   "outputs": [
    {
     "name": "stderr",
     "output_type": "stream",
     "text": [
      "C:\\Users\\mgood\\Anaconda3\\lib\\site-packages\\sklearn\\model_selection\\_search.py:841: DeprecationWarning: The default of the `iid` parameter will change from True to False in version 0.22 and will be removed in 0.24. This will change numeric results when test-set sizes are unequal.\n",
      "  DeprecationWarning)\n",
      "C:\\Users\\mgood\\Anaconda3\\lib\\site-packages\\sklearn\\model_selection\\_search.py:841: DeprecationWarning: The default of the `iid` parameter will change from True to False in version 0.22 and will be removed in 0.24. This will change numeric results when test-set sizes are unequal.\n",
      "  DeprecationWarning)\n",
      "C:\\Users\\mgood\\Anaconda3\\lib\\site-packages\\sklearn\\model_selection\\_search.py:841: DeprecationWarning: The default of the `iid` parameter will change from True to False in version 0.22 and will be removed in 0.24. This will change numeric results when test-set sizes are unequal.\n",
      "  DeprecationWarning)\n"
     ]
    },
    {
     "data": {
      "text/plain": [
       "array([0.66973164, 0.51534941, 0.49020935, 0.36034155, 0.33683081])"
      ]
     },
     "execution_count": 46,
     "metadata": {},
     "output_type": "execute_result"
    }
   ],
   "source": [
    "# A:\n",
    "rid_score= cross_val_score(rid,x_std,y,cv=5)\n",
    "rid_score"
   ]
  },
  {
   "cell_type": "code",
   "execution_count": 47,
   "metadata": {},
   "outputs": [
    {
     "data": {
      "text/plain": [
       "0.47449255305131854"
      ]
     },
     "execution_count": 47,
     "metadata": {},
     "output_type": "execute_result"
    }
   ],
   "source": [
    "np.mean(rid_score)"
   ]
  },
  {
   "cell_type": "markdown",
   "metadata": {},
   "source": [
    "---\n",
    "\n",
    "### 7. Find an optimal value for Lasso regression alpha using `LassoCV`.\n",
    "\n",
    "[Go to the documentation and read how LassoCV works.](http://scikit-learn.org/stable/modules/generated/sklearn.linear_model.LassoCV.html) It is very similar to `RidgeCV`.\n",
    "\n",
    "> *Hint: again, once the `LassoCV` is fit, the attribute `.alpha_` contains the best alpha parameter it found through cross-validation.*\n",
    "\n",
    "Recall that Lasso, unlike Ridge, performs best searching for alpha through linear space (`np.linspace`). However, you can actually let the LassoCV decide itself what alphas to use by instead setting the keyword argument `n_alphas=` to however many alphas you want it to search over. It is recommended to let sklearn choose the range of alphas.\n",
    "\n",
    "_**Tip:** If you find your CV taking a long time and you're not sure if its working set `verbose =1`._"
   ]
  },
  {
   "cell_type": "code",
   "execution_count": null,
   "metadata": {},
   "outputs": [],
   "source": []
  },
  {
   "cell_type": "code",
   "execution_count": 49,
   "metadata": {},
   "outputs": [
    {
     "name": "stderr",
     "output_type": "stream",
     "text": [
      "C:\\Users\\mgood\\Anaconda3\\lib\\site-packages\\sklearn\\model_selection\\_split.py:2053: FutureWarning: You should specify a value for 'cv' instead of relying on the default value. The default value will change from 3 to 5 in version 0.22.\n",
      "  warnings.warn(CV_WARNING, FutureWarning)\n"
     ]
    },
    {
     "data": {
      "text/plain": [
       "0.6957998358025518"
      ]
     },
     "execution_count": 49,
     "metadata": {},
     "output_type": "execute_result"
    }
   ],
   "source": [
    "# A:\n",
    "las = LassoCV()\n",
    "las.fit(x_std,y)\n",
    "las.score(x_std,y)"
   ]
  },
  {
   "cell_type": "code",
   "execution_count": 51,
   "metadata": {},
   "outputs": [
    {
     "data": {
      "text/plain": [
       "0.08015435874757074"
      ]
     },
     "execution_count": 51,
     "metadata": {},
     "output_type": "execute_result"
    }
   ],
   "source": [
    "a=las.alpha_\n",
    "a"
   ]
  },
  {
   "cell_type": "code",
   "execution_count": null,
   "metadata": {},
   "outputs": [],
   "source": []
  },
  {
   "cell_type": "markdown",
   "metadata": {},
   "source": [
    "---\n",
    "\n",
    "### 8. Cross-validate the Lasso $R^2$ with the optimal alpha.\n",
    "\n",
    "Is it better than the Linear regression? Is it better than Ridge? What do the differences in results imply about the issues with the dataset?"
   ]
  },
  {
   "cell_type": "code",
   "execution_count": 53,
   "metadata": {},
   "outputs": [],
   "source": [
    "# A:\n",
    "lass= Lasso(alpha=a)\n",
    "las_score=cross_val_predict(lass,x_std,y,cv=5)\n"
   ]
  },
  {
   "cell_type": "code",
   "execution_count": 54,
   "metadata": {},
   "outputs": [
    {
     "data": {
      "text/plain": [
       "array([ 0.20991628,  0.12952211,  0.85480827, ...,  8.11799552,\n",
       "        5.63124015, 17.6126715 ])"
      ]
     },
     "execution_count": 54,
     "metadata": {},
     "output_type": "execute_result"
    }
   ],
   "source": [
    "las_score"
   ]
  },
  {
   "cell_type": "code",
   "execution_count": 55,
   "metadata": {},
   "outputs": [
    {
     "data": {
      "text/plain": [
       "7.363162095070048"
      ]
     },
     "execution_count": 55,
     "metadata": {},
     "output_type": "execute_result"
    }
   ],
   "source": [
    "np.mean(las_score)"
   ]
  },
  {
   "cell_type": "markdown",
   "metadata": {},
   "source": [
    "---\n",
    "\n",
    "### 9. Look at the coefficients for variables in the Lasso.\n",
    "\n",
    "1. Show the coefficient for variables, ordered from largest to smallest coefficient by absolute value.\n",
    "2. What percent of the variables in the original dataset are \"zeroed-out\" by the lasso?\n",
    "3. What are the most important predictors for how many shots Kobe made in a game?\n",
    "\n",
    "> **Note:** if you only fit the Lasso within `cross_val_score`, you will have to refit it outside of that\n",
    "function to pull out the coefficients."
   ]
  },
  {
   "cell_type": "code",
   "execution_count": null,
   "metadata": {},
   "outputs": [],
   "source": [
    "kobe['f_im']=kobe.coe"
   ]
  },
  {
   "cell_type": "code",
   "execution_count": 61,
   "metadata": {},
   "outputs": [],
   "source": [
    "# # A:\n",
    "def lasso_coefs(X, Y, alphas):\n",
    "    coefs = []\n",
    "    lasso_reg = Lasso()\n",
    "    for a in alphas:\n",
    "        lasso_reg.set_params(alpha=a)\n",
    "        lasso_reg.fit(X, Y)\n",
    "        coefs.append(lasso_reg.coef_)\n",
    "        \n",
    "    return coefs\n"
   ]
  },
  {
   "cell_type": "code",
   "execution_count": 67,
   "metadata": {},
   "outputs": [
    {
     "name": "stderr",
     "output_type": "stream",
     "text": [
      "C:\\Users\\mgood\\Anaconda3\\lib\\site-packages\\sklearn\\linear_model\\coordinate_descent.py:492: ConvergenceWarning: Objective did not converge. You might want to increase the number of iterations. Fitting data with very small alpha may cause precision problems.\n",
      "  ConvergenceWarning)\n",
      "C:\\Users\\mgood\\Anaconda3\\lib\\site-packages\\sklearn\\linear_model\\coordinate_descent.py:492: ConvergenceWarning: Objective did not converge. You might want to increase the number of iterations. Fitting data with very small alpha may cause precision problems.\n",
      "  ConvergenceWarning)\n",
      "C:\\Users\\mgood\\Anaconda3\\lib\\site-packages\\sklearn\\linear_model\\coordinate_descent.py:492: ConvergenceWarning: Objective did not converge. You might want to increase the number of iterations. Fitting data with very small alpha may cause precision problems.\n",
      "  ConvergenceWarning)\n",
      "C:\\Users\\mgood\\Anaconda3\\lib\\site-packages\\sklearn\\linear_model\\coordinate_descent.py:492: ConvergenceWarning: Objective did not converge. You might want to increase the number of iterations. Fitting data with very small alpha may cause precision problems.\n",
      "  ConvergenceWarning)\n",
      "C:\\Users\\mgood\\Anaconda3\\lib\\site-packages\\sklearn\\linear_model\\coordinate_descent.py:492: ConvergenceWarning: Objective did not converge. You might want to increase the number of iterations. Fitting data with very small alpha may cause precision problems.\n",
      "  ConvergenceWarning)\n",
      "C:\\Users\\mgood\\Anaconda3\\lib\\site-packages\\sklearn\\linear_model\\coordinate_descent.py:492: ConvergenceWarning: Objective did not converge. You might want to increase the number of iterations. Fitting data with very small alpha may cause precision problems.\n",
      "  ConvergenceWarning)\n",
      "C:\\Users\\mgood\\Anaconda3\\lib\\site-packages\\sklearn\\linear_model\\coordinate_descent.py:492: ConvergenceWarning: Objective did not converge. You might want to increase the number of iterations. Fitting data with very small alpha may cause precision problems.\n",
      "  ConvergenceWarning)\n"
     ]
    },
    {
     "ename": "ValueError",
     "evalue": "Length of values does not match length of index",
     "output_type": "error",
     "traceback": [
      "\u001b[1;31m---------------------------------------------------------------------------\u001b[0m",
      "\u001b[1;31mValueError\u001b[0m                                Traceback (most recent call last)",
      "\u001b[1;32m<ipython-input-67-25bd8acbd437>\u001b[0m in \u001b[0;36m<module>\u001b[1;34m\u001b[0m\n\u001b[0;32m      1\u001b[0m \u001b[0ml_alphas\u001b[0m \u001b[1;33m=\u001b[0m \u001b[0mnp\u001b[0m\u001b[1;33m.\u001b[0m\u001b[0marange\u001b[0m\u001b[1;33m(\u001b[0m\u001b[1;36m0.001\u001b[0m\u001b[1;33m,\u001b[0m \u001b[1;36m0.15\u001b[0m\u001b[1;33m,\u001b[0m \u001b[1;36m0.0025\u001b[0m\u001b[1;33m)\u001b[0m\u001b[1;33m\u001b[0m\u001b[1;33m\u001b[0m\u001b[0m\n\u001b[0;32m      2\u001b[0m \u001b[0ml_coefs\u001b[0m \u001b[1;33m=\u001b[0m \u001b[0mlasso_coefs\u001b[0m\u001b[1;33m(\u001b[0m\u001b[0mx_std\u001b[0m\u001b[1;33m,\u001b[0m\u001b[0my\u001b[0m\u001b[1;33m,\u001b[0m \u001b[0ml_alphas\u001b[0m\u001b[1;33m)\u001b[0m\u001b[1;33m\u001b[0m\u001b[1;33m\u001b[0m\u001b[0m\n\u001b[1;32m----> 3\u001b[1;33m \u001b[0mkobe\u001b[0m\u001b[1;33m[\u001b[0m\u001b[1;34m'coeff'\u001b[0m\u001b[1;33m]\u001b[0m\u001b[1;33m=\u001b[0m\u001b[0ml_coefs\u001b[0m\u001b[1;33m\u001b[0m\u001b[1;33m\u001b[0m\u001b[0m\n\u001b[0m",
      "\u001b[1;32m~\\Anaconda3\\lib\\site-packages\\pandas\\core\\frame.py\u001b[0m in \u001b[0;36m__setitem__\u001b[1;34m(self, key, value)\u001b[0m\n\u001b[0;32m   3368\u001b[0m         \u001b[1;32melse\u001b[0m\u001b[1;33m:\u001b[0m\u001b[1;33m\u001b[0m\u001b[1;33m\u001b[0m\u001b[0m\n\u001b[0;32m   3369\u001b[0m             \u001b[1;31m# set column\u001b[0m\u001b[1;33m\u001b[0m\u001b[1;33m\u001b[0m\u001b[1;33m\u001b[0m\u001b[0m\n\u001b[1;32m-> 3370\u001b[1;33m             \u001b[0mself\u001b[0m\u001b[1;33m.\u001b[0m\u001b[0m_set_item\u001b[0m\u001b[1;33m(\u001b[0m\u001b[0mkey\u001b[0m\u001b[1;33m,\u001b[0m \u001b[0mvalue\u001b[0m\u001b[1;33m)\u001b[0m\u001b[1;33m\u001b[0m\u001b[1;33m\u001b[0m\u001b[0m\n\u001b[0m\u001b[0;32m   3371\u001b[0m \u001b[1;33m\u001b[0m\u001b[0m\n\u001b[0;32m   3372\u001b[0m     \u001b[1;32mdef\u001b[0m \u001b[0m_setitem_slice\u001b[0m\u001b[1;33m(\u001b[0m\u001b[0mself\u001b[0m\u001b[1;33m,\u001b[0m \u001b[0mkey\u001b[0m\u001b[1;33m,\u001b[0m \u001b[0mvalue\u001b[0m\u001b[1;33m)\u001b[0m\u001b[1;33m:\u001b[0m\u001b[1;33m\u001b[0m\u001b[1;33m\u001b[0m\u001b[0m\n",
      "\u001b[1;32m~\\Anaconda3\\lib\\site-packages\\pandas\\core\\frame.py\u001b[0m in \u001b[0;36m_set_item\u001b[1;34m(self, key, value)\u001b[0m\n\u001b[0;32m   3443\u001b[0m \u001b[1;33m\u001b[0m\u001b[0m\n\u001b[0;32m   3444\u001b[0m         \u001b[0mself\u001b[0m\u001b[1;33m.\u001b[0m\u001b[0m_ensure_valid_index\u001b[0m\u001b[1;33m(\u001b[0m\u001b[0mvalue\u001b[0m\u001b[1;33m)\u001b[0m\u001b[1;33m\u001b[0m\u001b[1;33m\u001b[0m\u001b[0m\n\u001b[1;32m-> 3445\u001b[1;33m         \u001b[0mvalue\u001b[0m \u001b[1;33m=\u001b[0m \u001b[0mself\u001b[0m\u001b[1;33m.\u001b[0m\u001b[0m_sanitize_column\u001b[0m\u001b[1;33m(\u001b[0m\u001b[0mkey\u001b[0m\u001b[1;33m,\u001b[0m \u001b[0mvalue\u001b[0m\u001b[1;33m)\u001b[0m\u001b[1;33m\u001b[0m\u001b[1;33m\u001b[0m\u001b[0m\n\u001b[0m\u001b[0;32m   3446\u001b[0m         \u001b[0mNDFrame\u001b[0m\u001b[1;33m.\u001b[0m\u001b[0m_set_item\u001b[0m\u001b[1;33m(\u001b[0m\u001b[0mself\u001b[0m\u001b[1;33m,\u001b[0m \u001b[0mkey\u001b[0m\u001b[1;33m,\u001b[0m \u001b[0mvalue\u001b[0m\u001b[1;33m)\u001b[0m\u001b[1;33m\u001b[0m\u001b[1;33m\u001b[0m\u001b[0m\n\u001b[0;32m   3447\u001b[0m \u001b[1;33m\u001b[0m\u001b[0m\n",
      "\u001b[1;32m~\\Anaconda3\\lib\\site-packages\\pandas\\core\\frame.py\u001b[0m in \u001b[0;36m_sanitize_column\u001b[1;34m(self, key, value, broadcast)\u001b[0m\n\u001b[0;32m   3628\u001b[0m \u001b[1;33m\u001b[0m\u001b[0m\n\u001b[0;32m   3629\u001b[0m             \u001b[1;31m# turn me into an ndarray\u001b[0m\u001b[1;33m\u001b[0m\u001b[1;33m\u001b[0m\u001b[1;33m\u001b[0m\u001b[0m\n\u001b[1;32m-> 3630\u001b[1;33m             \u001b[0mvalue\u001b[0m \u001b[1;33m=\u001b[0m \u001b[0msanitize_index\u001b[0m\u001b[1;33m(\u001b[0m\u001b[0mvalue\u001b[0m\u001b[1;33m,\u001b[0m \u001b[0mself\u001b[0m\u001b[1;33m.\u001b[0m\u001b[0mindex\u001b[0m\u001b[1;33m,\u001b[0m \u001b[0mcopy\u001b[0m\u001b[1;33m=\u001b[0m\u001b[1;32mFalse\u001b[0m\u001b[1;33m)\u001b[0m\u001b[1;33m\u001b[0m\u001b[1;33m\u001b[0m\u001b[0m\n\u001b[0m\u001b[0;32m   3631\u001b[0m             \u001b[1;32mif\u001b[0m \u001b[1;32mnot\u001b[0m \u001b[0misinstance\u001b[0m\u001b[1;33m(\u001b[0m\u001b[0mvalue\u001b[0m\u001b[1;33m,\u001b[0m \u001b[1;33m(\u001b[0m\u001b[0mnp\u001b[0m\u001b[1;33m.\u001b[0m\u001b[0mndarray\u001b[0m\u001b[1;33m,\u001b[0m \u001b[0mIndex\u001b[0m\u001b[1;33m)\u001b[0m\u001b[1;33m)\u001b[0m\u001b[1;33m:\u001b[0m\u001b[1;33m\u001b[0m\u001b[1;33m\u001b[0m\u001b[0m\n\u001b[0;32m   3632\u001b[0m                 \u001b[1;32mif\u001b[0m \u001b[0misinstance\u001b[0m\u001b[1;33m(\u001b[0m\u001b[0mvalue\u001b[0m\u001b[1;33m,\u001b[0m \u001b[0mlist\u001b[0m\u001b[1;33m)\u001b[0m \u001b[1;32mand\u001b[0m \u001b[0mlen\u001b[0m\u001b[1;33m(\u001b[0m\u001b[0mvalue\u001b[0m\u001b[1;33m)\u001b[0m \u001b[1;33m>\u001b[0m \u001b[1;36m0\u001b[0m\u001b[1;33m:\u001b[0m\u001b[1;33m\u001b[0m\u001b[1;33m\u001b[0m\u001b[0m\n",
      "\u001b[1;32m~\\Anaconda3\\lib\\site-packages\\pandas\\core\\internals\\construction.py\u001b[0m in \u001b[0;36msanitize_index\u001b[1;34m(data, index, copy)\u001b[0m\n\u001b[0;32m    517\u001b[0m \u001b[1;33m\u001b[0m\u001b[0m\n\u001b[0;32m    518\u001b[0m     \u001b[1;32mif\u001b[0m \u001b[0mlen\u001b[0m\u001b[1;33m(\u001b[0m\u001b[0mdata\u001b[0m\u001b[1;33m)\u001b[0m \u001b[1;33m!=\u001b[0m \u001b[0mlen\u001b[0m\u001b[1;33m(\u001b[0m\u001b[0mindex\u001b[0m\u001b[1;33m)\u001b[0m\u001b[1;33m:\u001b[0m\u001b[1;33m\u001b[0m\u001b[1;33m\u001b[0m\u001b[0m\n\u001b[1;32m--> 519\u001b[1;33m         \u001b[1;32mraise\u001b[0m \u001b[0mValueError\u001b[0m\u001b[1;33m(\u001b[0m\u001b[1;34m'Length of values does not match length of index'\u001b[0m\u001b[1;33m)\u001b[0m\u001b[1;33m\u001b[0m\u001b[1;33m\u001b[0m\u001b[0m\n\u001b[0m\u001b[0;32m    520\u001b[0m \u001b[1;33m\u001b[0m\u001b[0m\n\u001b[0;32m    521\u001b[0m     \u001b[1;32mif\u001b[0m \u001b[0misinstance\u001b[0m\u001b[1;33m(\u001b[0m\u001b[0mdata\u001b[0m\u001b[1;33m,\u001b[0m \u001b[0mABCIndexClass\u001b[0m\u001b[1;33m)\u001b[0m \u001b[1;32mand\u001b[0m \u001b[1;32mnot\u001b[0m \u001b[0mcopy\u001b[0m\u001b[1;33m:\u001b[0m\u001b[1;33m\u001b[0m\u001b[1;33m\u001b[0m\u001b[0m\n",
      "\u001b[1;31mValueError\u001b[0m: Length of values does not match length of index"
     ]
    }
   ],
   "source": [
    "l_alphas = np.arange(0.001, 0.15, 0.0025)\n",
    "l_coefs = lasso_coefs(x_std,y, l_alphas)\n",
    "kobe['coeff']=l_coefs"
   ]
  },
  {
   "cell_type": "code",
   "execution_count": 66,
   "metadata": {},
   "outputs": [
    {
     "data": {
      "text/plain": [
       "<bound method DataFrame.sort_values of       SHOTS_MADE  AWAY_GAME  SEASON_OPPONENT:atl:1996-97  \\\n",
       "0            0.0          0                          0.0   \n",
       "1            0.0          1                          0.0   \n",
       "2            2.0          1                          0.0   \n",
       "3            2.0          1                          0.0   \n",
       "4            0.0          0                          1.0   \n",
       "5            1.0          1                          0.0   \n",
       "6            2.0          1                          0.0   \n",
       "7            1.0          0                          0.0   \n",
       "8            4.0          1                          0.0   \n",
       "9            0.0          1                          0.0   \n",
       "10           2.0          0                          0.0   \n",
       "11           4.0          1                          0.0   \n",
       "12           1.0          1                          0.0   \n",
       "13           0.0          1                          0.0   \n",
       "14           1.0          0                          0.0   \n",
       "15           0.0          1                          0.0   \n",
       "16           2.0          0                          0.0   \n",
       "17           0.0          1                          0.0   \n",
       "18           2.0          1                          0.0   \n",
       "19           2.0          1                          0.0   \n",
       "20           0.0          1                          0.0   \n",
       "21           2.0          1                          0.0   \n",
       "22           5.0          0                          0.0   \n",
       "23           6.0          1                          0.0   \n",
       "24           3.0          1                          0.0   \n",
       "25           4.0          0                          0.0   \n",
       "26           1.0          0                          0.0   \n",
       "27           1.0          0                          0.0   \n",
       "28           6.0          0                          0.0   \n",
       "29           2.0          0                          0.0   \n",
       "...          ...        ...                          ...   \n",
       "1528         2.0          0                          0.0   \n",
       "1529         5.0          1                          0.0   \n",
       "1530         4.0          0                          0.0   \n",
       "1531         8.0          0                          0.0   \n",
       "1532         8.0          0                          0.0   \n",
       "1533         6.0          1                          0.0   \n",
       "1534         8.0          1                          0.0   \n",
       "1535         4.0          1                          0.0   \n",
       "1536         5.0          1                          0.0   \n",
       "1537         8.0          0                          0.0   \n",
       "1538         5.0          1                          0.0   \n",
       "1539         2.0          1                          0.0   \n",
       "1540         3.0          1                          0.0   \n",
       "1541         1.0          1                          0.0   \n",
       "1542         3.0          0                          0.0   \n",
       "1543        11.0          0                          0.0   \n",
       "1544         5.0          0                          0.0   \n",
       "1545         5.0          0                          0.0   \n",
       "1546         5.0          1                          0.0   \n",
       "1547         7.0          0                          0.0   \n",
       "1548         5.0          0                          0.0   \n",
       "1549         0.0          1                          0.0   \n",
       "1550         1.0          0                          0.0   \n",
       "1551         5.0          0                          0.0   \n",
       "1552         1.0          1                          0.0   \n",
       "1553         4.0          0                          0.0   \n",
       "1554         4.0          1                          0.0   \n",
       "1555         9.0          1                          0.0   \n",
       "1556         3.0          1                          0.0   \n",
       "1557        19.0          0                          0.0   \n",
       "\n",
       "      SEASON_OPPONENT:atl:1997-98  SEASON_OPPONENT:atl:1999-00  \\\n",
       "0                             0.0                          0.0   \n",
       "1                             0.0                          0.0   \n",
       "2                             0.0                          0.0   \n",
       "3                             0.0                          0.0   \n",
       "4                             0.0                          0.0   \n",
       "5                             0.0                          0.0   \n",
       "6                             0.0                          0.0   \n",
       "7                             0.0                          0.0   \n",
       "8                             0.0                          0.0   \n",
       "9                             0.0                          0.0   \n",
       "10                            0.0                          0.0   \n",
       "11                            0.0                          0.0   \n",
       "12                            0.0                          0.0   \n",
       "13                            0.0                          0.0   \n",
       "14                            0.0                          0.0   \n",
       "15                            0.0                          0.0   \n",
       "16                            0.0                          0.0   \n",
       "17                            0.0                          0.0   \n",
       "18                            0.0                          0.0   \n",
       "19                            0.0                          0.0   \n",
       "20                            0.0                          0.0   \n",
       "21                            0.0                          0.0   \n",
       "22                            0.0                          0.0   \n",
       "23                            0.0                          0.0   \n",
       "24                            0.0                          0.0   \n",
       "25                            0.0                          0.0   \n",
       "26                            0.0                          0.0   \n",
       "27                            0.0                          0.0   \n",
       "28                            0.0                          0.0   \n",
       "29                            0.0                          0.0   \n",
       "...                           ...                          ...   \n",
       "1528                          0.0                          0.0   \n",
       "1529                          0.0                          0.0   \n",
       "1530                          0.0                          0.0   \n",
       "1531                          0.0                          0.0   \n",
       "1532                          0.0                          0.0   \n",
       "1533                          0.0                          0.0   \n",
       "1534                          0.0                          0.0   \n",
       "1535                          0.0                          0.0   \n",
       "1536                          0.0                          0.0   \n",
       "1537                          0.0                          0.0   \n",
       "1538                          0.0                          0.0   \n",
       "1539                          0.0                          0.0   \n",
       "1540                          0.0                          0.0   \n",
       "1541                          0.0                          0.0   \n",
       "1542                          0.0                          0.0   \n",
       "1543                          0.0                          0.0   \n",
       "1544                          0.0                          0.0   \n",
       "1545                          0.0                          0.0   \n",
       "1546                          0.0                          0.0   \n",
       "1547                          0.0                          0.0   \n",
       "1548                          0.0                          0.0   \n",
       "1549                          0.0                          0.0   \n",
       "1550                          0.0                          0.0   \n",
       "1551                          0.0                          0.0   \n",
       "1552                          0.0                          0.0   \n",
       "1553                          0.0                          0.0   \n",
       "1554                          0.0                          0.0   \n",
       "1555                          0.0                          0.0   \n",
       "1556                          0.0                          0.0   \n",
       "1557                          0.0                          0.0   \n",
       "\n",
       "      SEASON_OPPONENT:atl:2000-01  SEASON_OPPONENT:atl:2001-02  \\\n",
       "0                             0.0                          0.0   \n",
       "1                             0.0                          0.0   \n",
       "2                             0.0                          0.0   \n",
       "3                             0.0                          0.0   \n",
       "4                             0.0                          0.0   \n",
       "5                             0.0                          0.0   \n",
       "6                             0.0                          0.0   \n",
       "7                             0.0                          0.0   \n",
       "8                             0.0                          0.0   \n",
       "9                             0.0                          0.0   \n",
       "10                            0.0                          0.0   \n",
       "11                            0.0                          0.0   \n",
       "12                            0.0                          0.0   \n",
       "13                            0.0                          0.0   \n",
       "14                            0.0                          0.0   \n",
       "15                            0.0                          0.0   \n",
       "16                            0.0                          0.0   \n",
       "17                            0.0                          0.0   \n",
       "18                            0.0                          0.0   \n",
       "19                            0.0                          0.0   \n",
       "20                            0.0                          0.0   \n",
       "21                            0.0                          0.0   \n",
       "22                            0.0                          0.0   \n",
       "23                            0.0                          0.0   \n",
       "24                            0.0                          0.0   \n",
       "25                            0.0                          0.0   \n",
       "26                            0.0                          0.0   \n",
       "27                            0.0                          0.0   \n",
       "28                            0.0                          0.0   \n",
       "29                            0.0                          0.0   \n",
       "...                           ...                          ...   \n",
       "1528                          0.0                          0.0   \n",
       "1529                          0.0                          0.0   \n",
       "1530                          0.0                          0.0   \n",
       "1531                          0.0                          0.0   \n",
       "1532                          0.0                          0.0   \n",
       "1533                          0.0                          0.0   \n",
       "1534                          0.0                          0.0   \n",
       "1535                          0.0                          0.0   \n",
       "1536                          0.0                          0.0   \n",
       "1537                          0.0                          0.0   \n",
       "1538                          0.0                          0.0   \n",
       "1539                          0.0                          0.0   \n",
       "1540                          0.0                          0.0   \n",
       "1541                          0.0                          0.0   \n",
       "1542                          0.0                          0.0   \n",
       "1543                          0.0                          0.0   \n",
       "1544                          0.0                          0.0   \n",
       "1545                          0.0                          0.0   \n",
       "1546                          0.0                          0.0   \n",
       "1547                          0.0                          0.0   \n",
       "1548                          0.0                          0.0   \n",
       "1549                          0.0                          0.0   \n",
       "1550                          0.0                          0.0   \n",
       "1551                          0.0                          0.0   \n",
       "1552                          0.0                          0.0   \n",
       "1553                          0.0                          0.0   \n",
       "1554                          0.0                          0.0   \n",
       "1555                          0.0                          0.0   \n",
       "1556                          0.0                          0.0   \n",
       "1557                          0.0                          0.0   \n",
       "\n",
       "      SEASON_OPPONENT:atl:2002-03  SEASON_OPPONENT:atl:2003-04  \\\n",
       "0                             0.0                          0.0   \n",
       "1                             0.0                          0.0   \n",
       "2                             0.0                          0.0   \n",
       "3                             0.0                          0.0   \n",
       "4                             0.0                          0.0   \n",
       "5                             0.0                          0.0   \n",
       "6                             0.0                          0.0   \n",
       "7                             0.0                          0.0   \n",
       "8                             0.0                          0.0   \n",
       "9                             0.0                          0.0   \n",
       "10                            0.0                          0.0   \n",
       "11                            0.0                          0.0   \n",
       "12                            0.0                          0.0   \n",
       "13                            0.0                          0.0   \n",
       "14                            0.0                          0.0   \n",
       "15                            0.0                          0.0   \n",
       "16                            0.0                          0.0   \n",
       "17                            0.0                          0.0   \n",
       "18                            0.0                          0.0   \n",
       "19                            0.0                          0.0   \n",
       "20                            0.0                          0.0   \n",
       "21                            0.0                          0.0   \n",
       "22                            0.0                          0.0   \n",
       "23                            0.0                          0.0   \n",
       "24                            0.0                          0.0   \n",
       "25                            0.0                          0.0   \n",
       "26                            0.0                          0.0   \n",
       "27                            0.0                          0.0   \n",
       "28                            0.0                          0.0   \n",
       "29                            0.0                          0.0   \n",
       "...                           ...                          ...   \n",
       "1528                          0.0                          0.0   \n",
       "1529                          0.0                          0.0   \n",
       "1530                          0.0                          0.0   \n",
       "1531                          0.0                          0.0   \n",
       "1532                          0.0                          0.0   \n",
       "1533                          0.0                          0.0   \n",
       "1534                          0.0                          0.0   \n",
       "1535                          0.0                          0.0   \n",
       "1536                          0.0                          0.0   \n",
       "1537                          0.0                          0.0   \n",
       "1538                          0.0                          0.0   \n",
       "1539                          0.0                          0.0   \n",
       "1540                          0.0                          0.0   \n",
       "1541                          0.0                          0.0   \n",
       "1542                          0.0                          0.0   \n",
       "1543                          0.0                          0.0   \n",
       "1544                          0.0                          0.0   \n",
       "1545                          0.0                          0.0   \n",
       "1546                          0.0                          0.0   \n",
       "1547                          0.0                          0.0   \n",
       "1548                          0.0                          0.0   \n",
       "1549                          0.0                          0.0   \n",
       "1550                          0.0                          0.0   \n",
       "1551                          0.0                          0.0   \n",
       "1552                          0.0                          0.0   \n",
       "1553                          0.0                          0.0   \n",
       "1554                          0.0                          0.0   \n",
       "1555                          0.0                          0.0   \n",
       "1556                          0.0                          0.0   \n",
       "1557                          0.0                          0.0   \n",
       "\n",
       "      SEASON_OPPONENT:atl:2004-05  ...  ACTION_TYPE:tip_layup_shot  \\\n",
       "0                             0.0  ...                        0.00   \n",
       "1                             0.0  ...                        0.00   \n",
       "2                             0.0  ...                        0.00   \n",
       "3                             0.0  ...                        0.00   \n",
       "4                             0.0  ...                        0.00   \n",
       "5                             0.0  ...                        0.00   \n",
       "6                             0.0  ...                        0.00   \n",
       "7                             0.0  ...                        0.00   \n",
       "8                             0.0  ...                        0.00   \n",
       "9                             0.0  ...                        0.00   \n",
       "10                            0.0  ...                        0.00   \n",
       "11                            0.0  ...                        0.00   \n",
       "12                            0.0  ...                        0.00   \n",
       "13                            0.0  ...                        0.00   \n",
       "14                            0.0  ...                        0.00   \n",
       "15                            0.0  ...                        0.00   \n",
       "16                            0.0  ...                        0.00   \n",
       "17                            0.0  ...                        0.00   \n",
       "18                            0.0  ...                        0.00   \n",
       "19                            0.0  ...                        0.00   \n",
       "20                            0.0  ...                        0.00   \n",
       "21                            0.0  ...                        0.00   \n",
       "22                            0.0  ...                        0.00   \n",
       "23                            0.0  ...                        0.00   \n",
       "24                            0.0  ...                        0.00   \n",
       "25                            0.0  ...                        0.00   \n",
       "26                            0.0  ...                        0.00   \n",
       "27                            0.0  ...                        0.00   \n",
       "28                            0.0  ...                        0.00   \n",
       "29                            0.0  ...                        0.00   \n",
       "...                           ...  ...                         ...   \n",
       "1528                          0.0  ...                        0.00   \n",
       "1529                          0.0  ...                        0.00   \n",
       "1530                          0.0  ...                        0.00   \n",
       "1531                          0.0  ...                        0.00   \n",
       "1532                          0.0  ...                        0.00   \n",
       "1533                          0.0  ...                        0.00   \n",
       "1534                          0.0  ...                        0.00   \n",
       "1535                          0.0  ...                        0.00   \n",
       "1536                          0.0  ...                        0.00   \n",
       "1537                          0.0  ...                        0.00   \n",
       "1538                          0.0  ...                        0.05   \n",
       "1539                          0.0  ...                        0.00   \n",
       "1540                          0.0  ...                        0.00   \n",
       "1541                          0.0  ...                        0.00   \n",
       "1542                          0.0  ...                        0.00   \n",
       "1543                          0.0  ...                        0.00   \n",
       "1544                          0.0  ...                        0.00   \n",
       "1545                          0.0  ...                        0.00   \n",
       "1546                          0.0  ...                        0.00   \n",
       "1547                          0.0  ...                        0.00   \n",
       "1548                          0.0  ...                        0.00   \n",
       "1549                          0.0  ...                        0.00   \n",
       "1550                          0.0  ...                        0.00   \n",
       "1551                          0.0  ...                        0.00   \n",
       "1552                          0.0  ...                        0.00   \n",
       "1553                          0.0  ...                        0.00   \n",
       "1554                          0.0  ...                        0.00   \n",
       "1555                          0.0  ...                        0.00   \n",
       "1556                          0.0  ...                        0.00   \n",
       "1557                          0.0  ...                        0.00   \n",
       "\n",
       "      ACTION_TYPE:tip_shot  ACTION_TYPE:turnaround_bank_shot  \\\n",
       "0                 0.000000                          0.000000   \n",
       "1                 0.000000                          0.000000   \n",
       "2                 0.000000                          0.000000   \n",
       "3                 0.000000                          0.000000   \n",
       "4                 0.000000                          0.000000   \n",
       "5                 0.000000                          0.000000   \n",
       "6                 0.000000                          0.000000   \n",
       "7                 0.000000                          0.000000   \n",
       "8                 0.000000                          0.000000   \n",
       "9                 0.000000                          0.000000   \n",
       "10                0.000000                          0.000000   \n",
       "11                0.000000                          0.000000   \n",
       "12                0.000000                          0.000000   \n",
       "13                0.000000                          0.000000   \n",
       "14                0.000000                          0.000000   \n",
       "15                0.000000                          0.000000   \n",
       "16                0.000000                          0.000000   \n",
       "17                0.000000                          0.000000   \n",
       "18                0.000000                          0.000000   \n",
       "19                0.000000                          0.000000   \n",
       "20                0.000000                          0.000000   \n",
       "21                0.000000                          0.000000   \n",
       "22                0.000000                          0.000000   \n",
       "23                0.222222                          0.000000   \n",
       "24                0.000000                          0.000000   \n",
       "25                0.076923                          0.000000   \n",
       "26                0.000000                          0.000000   \n",
       "27                0.000000                          0.000000   \n",
       "28                0.000000                          0.000000   \n",
       "29                0.000000                          0.000000   \n",
       "...                    ...                               ...   \n",
       "1528              0.000000                          0.000000   \n",
       "1529              0.000000                          0.000000   \n",
       "1530              0.000000                          0.000000   \n",
       "1531              0.000000                          0.055556   \n",
       "1532              0.000000                          0.000000   \n",
       "1533              0.000000                          0.000000   \n",
       "1534              0.000000                          0.000000   \n",
       "1535              0.000000                          0.000000   \n",
       "1536              0.000000                          0.000000   \n",
       "1537              0.000000                          0.000000   \n",
       "1538              0.000000                          0.000000   \n",
       "1539              0.000000                          0.000000   \n",
       "1540              0.000000                          0.000000   \n",
       "1541              0.000000                          0.000000   \n",
       "1542              0.000000                          0.000000   \n",
       "1543              0.000000                          0.000000   \n",
       "1544              0.000000                          0.000000   \n",
       "1545              0.000000                          0.000000   \n",
       "1546              0.000000                          0.000000   \n",
       "1547              0.000000                          0.000000   \n",
       "1548              0.000000                          0.000000   \n",
       "1549              0.000000                          0.000000   \n",
       "1550              0.000000                          0.000000   \n",
       "1551              0.000000                          0.000000   \n",
       "1552              0.000000                          0.000000   \n",
       "1553              0.000000                          0.000000   \n",
       "1554              0.000000                          0.000000   \n",
       "1555              0.000000                          0.000000   \n",
       "1556              0.000000                          0.000000   \n",
       "1557              0.000000                          0.000000   \n",
       "\n",
       "      ACTION_TYPE:turnaround_fadeaway_bank_jump_shot  \\\n",
       "0                                               0.00   \n",
       "1                                               0.00   \n",
       "2                                               0.00   \n",
       "3                                               0.00   \n",
       "4                                               0.00   \n",
       "5                                               0.00   \n",
       "6                                               0.00   \n",
       "7                                               0.00   \n",
       "8                                               0.00   \n",
       "9                                               0.00   \n",
       "10                                              0.00   \n",
       "11                                              0.00   \n",
       "12                                              0.00   \n",
       "13                                              0.00   \n",
       "14                                              0.00   \n",
       "15                                              0.00   \n",
       "16                                              0.00   \n",
       "17                                              0.00   \n",
       "18                                              0.00   \n",
       "19                                              0.00   \n",
       "20                                              0.00   \n",
       "21                                              0.00   \n",
       "22                                              0.00   \n",
       "23                                              0.00   \n",
       "24                                              0.00   \n",
       "25                                              0.00   \n",
       "26                                              0.00   \n",
       "27                                              0.00   \n",
       "28                                              0.00   \n",
       "29                                              0.00   \n",
       "...                                              ...   \n",
       "1528                                            0.00   \n",
       "1529                                            0.00   \n",
       "1530                                            0.00   \n",
       "1531                                            0.00   \n",
       "1532                                            0.00   \n",
       "1533                                            0.00   \n",
       "1534                                            0.00   \n",
       "1535                                            0.00   \n",
       "1536                                            0.00   \n",
       "1537                                            0.00   \n",
       "1538                                            0.05   \n",
       "1539                                            0.00   \n",
       "1540                                            0.00   \n",
       "1541                                            0.00   \n",
       "1542                                            0.00   \n",
       "1543                                            0.00   \n",
       "1544                                            0.00   \n",
       "1545                                            0.00   \n",
       "1546                                            0.00   \n",
       "1547                                            0.00   \n",
       "1548                                            0.00   \n",
       "1549                                            0.00   \n",
       "1550                                            0.00   \n",
       "1551                                            0.00   \n",
       "1552                                            0.00   \n",
       "1553                                            0.00   \n",
       "1554                                            0.00   \n",
       "1555                                            0.00   \n",
       "1556                                            0.00   \n",
       "1557                                            0.00   \n",
       "\n",
       "      ACTION_TYPE:turnaround_fadeaway_shot  \\\n",
       "0                                 0.000000   \n",
       "1                                 0.000000   \n",
       "2                                 0.000000   \n",
       "3                                 0.000000   \n",
       "4                                 0.000000   \n",
       "5                                 0.000000   \n",
       "6                                 0.000000   \n",
       "7                                 0.000000   \n",
       "8                                 0.000000   \n",
       "9                                 0.000000   \n",
       "10                                0.000000   \n",
       "11                                0.000000   \n",
       "12                                0.000000   \n",
       "13                                0.000000   \n",
       "14                                0.000000   \n",
       "15                                0.000000   \n",
       "16                                0.000000   \n",
       "17                                0.000000   \n",
       "18                                0.000000   \n",
       "19                                0.000000   \n",
       "20                                0.000000   \n",
       "21                                0.000000   \n",
       "22                                0.000000   \n",
       "23                                0.000000   \n",
       "24                                0.000000   \n",
       "25                                0.000000   \n",
       "26                                0.000000   \n",
       "27                                0.000000   \n",
       "28                                0.000000   \n",
       "29                                0.000000   \n",
       "...                                    ...   \n",
       "1528                              0.000000   \n",
       "1529                              0.000000   \n",
       "1530                              0.076923   \n",
       "1531                              0.111111   \n",
       "1532                              0.000000   \n",
       "1533                              0.000000   \n",
       "1534                              0.000000   \n",
       "1535                              0.000000   \n",
       "1536                              0.062500   \n",
       "1537                              0.120000   \n",
       "1538                              0.050000   \n",
       "1539                              0.000000   \n",
       "1540                              0.357143   \n",
       "1541                              0.000000   \n",
       "1542                              0.142857   \n",
       "1543                              0.000000   \n",
       "1544                              0.000000   \n",
       "1545                              0.333333   \n",
       "1546                              0.076923   \n",
       "1547                              0.136364   \n",
       "1548                              0.066667   \n",
       "1549                              0.181818   \n",
       "1550                              0.000000   \n",
       "1551                              0.107143   \n",
       "1552                              0.083333   \n",
       "1553                              0.105263   \n",
       "1554                              0.000000   \n",
       "1555                              0.045455   \n",
       "1556                              0.166667   \n",
       "1557                              0.020000   \n",
       "\n",
       "      ACTION_TYPE:turnaround_finger_roll_shot  \\\n",
       "0                                         0.0   \n",
       "1                                         0.0   \n",
       "2                                         0.0   \n",
       "3                                         0.0   \n",
       "4                                         0.0   \n",
       "5                                         0.0   \n",
       "6                                         0.0   \n",
       "7                                         0.0   \n",
       "8                                         0.0   \n",
       "9                                         0.0   \n",
       "10                                        0.0   \n",
       "11                                        0.0   \n",
       "12                                        0.0   \n",
       "13                                        0.0   \n",
       "14                                        0.0   \n",
       "15                                        0.0   \n",
       "16                                        0.0   \n",
       "17                                        0.0   \n",
       "18                                        0.0   \n",
       "19                                        0.0   \n",
       "20                                        0.0   \n",
       "21                                        0.0   \n",
       "22                                        0.0   \n",
       "23                                        0.0   \n",
       "24                                        0.0   \n",
       "25                                        0.0   \n",
       "26                                        0.0   \n",
       "27                                        0.0   \n",
       "28                                        0.0   \n",
       "29                                        0.0   \n",
       "...                                       ...   \n",
       "1528                                      0.0   \n",
       "1529                                      0.0   \n",
       "1530                                      0.0   \n",
       "1531                                      0.0   \n",
       "1532                                      0.0   \n",
       "1533                                      0.0   \n",
       "1534                                      0.0   \n",
       "1535                                      0.0   \n",
       "1536                                      0.0   \n",
       "1537                                      0.0   \n",
       "1538                                      0.0   \n",
       "1539                                      0.0   \n",
       "1540                                      0.0   \n",
       "1541                                      0.0   \n",
       "1542                                      0.0   \n",
       "1543                                      0.0   \n",
       "1544                                      0.0   \n",
       "1545                                      0.0   \n",
       "1546                                      0.0   \n",
       "1547                                      0.0   \n",
       "1548                                      0.0   \n",
       "1549                                      0.0   \n",
       "1550                                      0.0   \n",
       "1551                                      0.0   \n",
       "1552                                      0.0   \n",
       "1553                                      0.0   \n",
       "1554                                      0.0   \n",
       "1555                                      0.0   \n",
       "1556                                      0.0   \n",
       "1557                                      0.0   \n",
       "\n",
       "      ACTION_TYPE:turnaround_hook_shot  ACTION_TYPE:turnaround_jump_shot  \\\n",
       "0                             0.000000                          0.000000   \n",
       "1                             0.000000                          0.000000   \n",
       "2                             0.000000                          0.000000   \n",
       "3                             0.000000                          0.000000   \n",
       "4                             0.000000                          0.000000   \n",
       "5                             0.000000                          0.000000   \n",
       "6                             0.000000                          0.000000   \n",
       "7                             0.000000                          0.000000   \n",
       "8                             0.000000                          0.000000   \n",
       "9                             0.000000                          0.000000   \n",
       "10                            0.000000                          0.000000   \n",
       "11                            0.000000                          0.000000   \n",
       "12                            0.000000                          0.000000   \n",
       "13                            0.000000                          0.000000   \n",
       "14                            0.000000                          0.000000   \n",
       "15                            0.000000                          0.000000   \n",
       "16                            0.000000                          0.000000   \n",
       "17                            0.000000                          0.000000   \n",
       "18                            0.000000                          0.000000   \n",
       "19                            0.000000                          0.000000   \n",
       "20                            0.000000                          0.000000   \n",
       "21                            0.000000                          0.000000   \n",
       "22                            0.000000                          0.000000   \n",
       "23                            0.000000                          0.000000   \n",
       "24                            0.000000                          0.000000   \n",
       "25                            0.000000                          0.000000   \n",
       "26                            0.000000                          0.000000   \n",
       "27                            0.000000                          0.000000   \n",
       "28                            0.000000                          0.000000   \n",
       "29                            0.000000                          0.000000   \n",
       "...                                ...                               ...   \n",
       "1528                          0.000000                          0.000000   \n",
       "1529                          0.111111                          0.111111   \n",
       "1530                          0.000000                          0.000000   \n",
       "1531                          0.000000                          0.055556   \n",
       "1532                          0.000000                          0.000000   \n",
       "1533                          0.000000                          0.041667   \n",
       "1534                          0.000000                          0.035714   \n",
       "1535                          0.000000                          0.040000   \n",
       "1536                          0.000000                          0.062500   \n",
       "1537                          0.040000                          0.040000   \n",
       "1538                          0.000000                          0.000000   \n",
       "1539                          0.000000                          0.083333   \n",
       "1540                          0.000000                          0.000000   \n",
       "1541                          0.000000                          0.000000   \n",
       "1542                          0.000000                          0.142857   \n",
       "1543                          0.000000                          0.250000   \n",
       "1544                          0.000000                          0.200000   \n",
       "1545                          0.000000                          0.000000   \n",
       "1546                          0.000000                          0.153846   \n",
       "1547                          0.000000                          0.045455   \n",
       "1548                          0.000000                          0.000000   \n",
       "1549                          0.000000                          0.000000   \n",
       "1550                          0.000000                          0.000000   \n",
       "1551                          0.035714                          0.000000   \n",
       "1552                          0.000000                          0.083333   \n",
       "1553                          0.000000                          0.052632   \n",
       "1554                          0.000000                          0.000000   \n",
       "1555                          0.045455                          0.045455   \n",
       "1556                          0.000000                          0.000000   \n",
       "1557                          0.000000                          0.040000   \n",
       "\n",
       "      SEASON_GAME_NUMBER  CAREER_GAME_NUMBER  \n",
       "0                      1                   1  \n",
       "1                      2                   2  \n",
       "2                      3                   3  \n",
       "3                      4                   4  \n",
       "4                      5                   5  \n",
       "5                      6                   6  \n",
       "6                      7                   7  \n",
       "7                      8                   8  \n",
       "8                      9                   9  \n",
       "9                     10                  10  \n",
       "10                    11                  11  \n",
       "11                    12                  12  \n",
       "12                    13                  13  \n",
       "13                    14                  14  \n",
       "14                    15                  15  \n",
       "15                    16                  16  \n",
       "16                    17                  17  \n",
       "17                    18                  18  \n",
       "18                    19                  19  \n",
       "19                    20                  20  \n",
       "20                    21                  21  \n",
       "21                    23                  23  \n",
       "22                    24                  24  \n",
       "23                    25                  25  \n",
       "24                    26                  26  \n",
       "25                    27                  27  \n",
       "26                    28                  28  \n",
       "27                    29                  29  \n",
       "28                    30                  30  \n",
       "29                    31                  31  \n",
       "...                  ...                 ...  \n",
       "1528                  37                1530  \n",
       "1529                  38                1531  \n",
       "1530                  39                1532  \n",
       "1531                  40                1533  \n",
       "1532                  41                1534  \n",
       "1533                  42                1535  \n",
       "1534                  43                1536  \n",
       "1535                  44                1537  \n",
       "1536                  45                1538  \n",
       "1537                  46                1539  \n",
       "1538                  47                1540  \n",
       "1539                  48                1541  \n",
       "1540                  49                1542  \n",
       "1541                  50                1543  \n",
       "1542                  51                1544  \n",
       "1543                  52                1545  \n",
       "1544                  53                1546  \n",
       "1545                  54                1547  \n",
       "1546                  55                1548  \n",
       "1547                  56                1549  \n",
       "1548                  57                1550  \n",
       "1549                  58                1551  \n",
       "1550                  59                1552  \n",
       "1551                  60                1553  \n",
       "1552                  61                1554  \n",
       "1553                  62                1555  \n",
       "1554                  63                1556  \n",
       "1555                  64                1557  \n",
       "1556                  65                1558  \n",
       "1557                  66                1559  \n",
       "\n",
       "[1558 rows x 645 columns]>"
      ]
     },
     "execution_count": 66,
     "metadata": {},
     "output_type": "execute_result"
    }
   ],
   "source": [
    "kobe.sort_values"
   ]
  },
  {
   "cell_type": "markdown",
   "metadata": {},
   "source": [
    "---\n",
    "\n",
    "### 10. Find an optimal value for Elastic Net regression alpha using `ElasticNetCV`.\n",
    "\n",
    "[Go to the documentation and read how ElasticNetCV works.](http://scikit-learn.org/stable/modules/generated/sklearn.linear_model.ElasticNetCV.html).\n",
    "\n",
    "Note here that you will be optimizing both the alpha parameter and the l1_ratio:\n",
    "- `alpha`: strength of regularization\n",
    "- `l1_ratio`: amount of ridge vs. lasso (0 = all ridge, 1 = all lasso)\n",
    "    \n",
    "Do not include 0 in the search for `l1_ratio`: it will not allow it and break!\n",
    "\n",
    "You can use `n_alphas` for the alpha parameters instead of setting your own values: highly recommended!\n",
    "\n",
    "Also - be careful setting too many l1_ratios over cross-validation folds in your search. It can take a very long time if you choose too many combinations and for the most part there are diminishing returns in this data."
   ]
  },
  {
   "cell_type": "code",
   "execution_count": 70,
   "metadata": {},
   "outputs": [
    {
     "name": "stderr",
     "output_type": "stream",
     "text": [
      "[Parallel(n_jobs=1)]: Using backend SequentialBackend with 1 concurrent workers.\n",
      "........................................................................................................................................................................................................................................................................................................................................................................................................................................................................................................................................................................................................................................................................................................................................................................................................................................................................................................................................................................................................................................................................................................................................................................................................................................................................................................................................................................................................................................................................................................................................................................................................................................................................................................................................................................................................................................................................................................................................................................................................................................................................................................................................................................................................................................................................................................................................................................................................................................................................................................................................................................................................................................................................................................................................................................................................................................................................................................................................................................................................................................................................................................................[Parallel(n_jobs=1)]: Done  10 out of  10 | elapsed:   25.5s finished\n"
     ]
    },
    {
     "data": {
      "text/plain": [
       "ElasticNetCV(alphas=None, copy_X=True, cv=10, eps=0.001, fit_intercept=True,\n",
       "       l1_ratio=0.5, max_iter=1000, n_alphas=300, n_jobs=None,\n",
       "       normalize=False, positive=False, precompute='auto',\n",
       "       random_state=None, selection='cyclic', tol=0.0001, verbose=1)"
      ]
     },
     "execution_count": 70,
     "metadata": {},
     "output_type": "execute_result"
    }
   ],
   "source": [
    "# A:\n",
    "optE = ElasticNetCV(l1_ratio=0.5, n_alphas=300, cv=10, verbose=1)\n",
    "optE.fit (x_std,y)"
   ]
  },
  {
   "cell_type": "code",
   "execution_count": 75,
   "metadata": {},
   "outputs": [
    {
     "data": {
      "text/plain": [
       "0.12152262715421397"
      ]
     },
     "execution_count": 75,
     "metadata": {},
     "output_type": "execute_result"
    }
   ],
   "source": [
    "optE.alpha_"
   ]
  },
  {
   "cell_type": "code",
   "execution_count": 73,
   "metadata": {},
   "outputs": [
    {
     "data": {
      "text/plain": [
       "0.5"
      ]
     },
     "execution_count": 73,
     "metadata": {},
     "output_type": "execute_result"
    }
   ],
   "source": [
    "optE.l1_ratio"
   ]
  },
  {
   "cell_type": "markdown",
   "metadata": {},
   "source": [
    "---\n",
    "\n",
    "### 11. Cross-validate the ElasticNet $R^2$ with the optimal alpha and l1_ratio.\n",
    "\n",
    "How does it compare to the Ridge and Lasso regularized regressions?"
   ]
  },
  {
   "cell_type": "code",
   "execution_count": 77,
   "metadata": {},
   "outputs": [],
   "source": [
    "# A:\n",
    "Ent = ElasticNet(alpha=optE.alpha_,l1_ratio=optE.l1_ratio)\n",
    "Escore= cross_val_score(Ent,x_std,y,cv=10)\n"
   ]
  },
  {
   "cell_type": "code",
   "execution_count": 78,
   "metadata": {},
   "outputs": [
    {
     "data": {
      "text/plain": [
       "array([0.61648894, 0.52900196, 0.5321266 , 0.61407517, 0.54465249,\n",
       "       0.55418064, 0.52689571, 0.44367387, 0.46038708, 0.50237335])"
      ]
     },
     "execution_count": 78,
     "metadata": {},
     "output_type": "execute_result"
    }
   ],
   "source": [
    "Escore"
   ]
  },
  {
   "cell_type": "code",
   "execution_count": 79,
   "metadata": {},
   "outputs": [
    {
     "data": {
      "text/plain": [
       "0.5323855807847229"
      ]
     },
     "execution_count": 79,
     "metadata": {},
     "output_type": "execute_result"
    }
   ],
   "source": [
    "np.mean(Escore)"
   ]
  },
  {
   "cell_type": "markdown",
   "metadata": {},
   "source": [
    "---\n",
    "\n",
    "### 12. [Bonus] Compare the residuals for the Ridge and Lasso visually.\n"
   ]
  },
  {
   "cell_type": "code",
   "execution_count": 13,
   "metadata": {},
   "outputs": [],
   "source": [
    "# A: Maybe a histogram?"
   ]
  }
 ],
 "metadata": {
  "kernelspec": {
   "display_name": "Python 3",
   "language": "python",
   "name": "python3"
  },
  "language_info": {
   "codemirror_mode": {
    "name": "ipython",
    "version": 3
   },
   "file_extension": ".py",
   "mimetype": "text/x-python",
   "name": "python",
   "nbconvert_exporter": "python",
   "pygments_lexer": "ipython3",
   "version": "3.7.1"
  },
  "toc": {
   "nav_menu": {},
   "number_sections": false,
   "sideBar": true,
   "skip_h1_title": true,
   "toc_cell": false,
   "toc_position": {},
   "toc_section_display": "block",
   "toc_window_display": false
  },
  "varInspector": {
   "cols": {
    "lenName": 16,
    "lenType": 16,
    "lenVar": 40
   },
   "kernels_config": {
    "python": {
     "delete_cmd_postfix": "",
     "delete_cmd_prefix": "del ",
     "library": "var_list.py",
     "varRefreshCmd": "print(var_dic_list())"
    },
    "r": {
     "delete_cmd_postfix": ") ",
     "delete_cmd_prefix": "rm(",
     "library": "var_list.r",
     "varRefreshCmd": "cat(var_dic_list()) "
    }
   },
   "types_to_exclude": [
    "module",
    "function",
    "builtin_function_or_method",
    "instance",
    "_Feature"
   ],
   "window_display": false
  }
 },
 "nbformat": 4,
 "nbformat_minor": 2
}
